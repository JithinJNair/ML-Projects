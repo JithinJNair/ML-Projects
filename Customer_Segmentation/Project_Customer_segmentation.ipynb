{
 "cells": [
  {
   "cell_type": "markdown",
   "metadata": {
    "colab_type": "text",
    "id": "2Klm-1T0LrHi"
   },
   "source": [
    "<title>Customer Segmentation</title>"
   ]
  },
  {
   "cell_type": "markdown",
   "metadata": {
    "colab_type": "text",
    "id": "_B85wvS-LrHk"
   },
   "source": [
    "## Business Problem"
   ]
  },
  {
   "cell_type": "markdown",
   "metadata": {
    "colab_type": "text",
    "id": "54-874bPLrHl"
   },
   "source": [
    "### Description"
   ]
  },
  {
   "cell_type": "markdown",
   "metadata": {
    "ExecuteTime": {
     "end_time": "2020-05-14T08:46:41.175116Z",
     "start_time": "2020-05-14T08:46:41.165109Z"
    },
    "colab_type": "text",
    "id": "FdbKtrrvLrHm"
   },
   "source": [
    "Segmenting customers is the process of dividing up mass consumers into groups with similar needs and wants. It can help companies to focus on marketing efforts, so that customer satisfaction and overall profit could be achieved at higher rates. Segmentation exists to mitigate the inevitable problems that evolve from a \"One size fits all\" approach. Best in class suppliers develops different types of segmentation to understand how to create, position, and communicate the value of their offering to address the different needs required in different customer segments.\n",
    "Many companies adopts different segmentation schemes, that is often develop best but static (snapshot of consumer's preferences at the moment). Market trends evolve over time. It may grow, decline or disappear within certain time period due to number of reasons like demographics trend, technological advancement, economic cycles etc."
   ]
  },
  {
   "cell_type": "markdown",
   "metadata": {
    "colab_type": "text",
    "id": "7A3OGkvWLrHn"
   },
   "source": [
    "###### Problem Statement"
   ]
  },
  {
   "cell_type": "markdown",
   "metadata": {
    "colab_type": "text",
    "id": "cwzhKZ8PLrHo"
   },
   "source": [
    "- We are tasked with understanding the behaviour of customers and group them into several clusters.\n",
    "- We need a way to understand our customers in structured and shared manner."
   ]
  },
  {
   "cell_type": "markdown",
   "metadata": {
    "colab_type": "text",
    "id": "GSaV5A5FLrHp"
   },
   "source": [
    "### Sources or Useful Links"
   ]
  },
  {
   "cell_type": "markdown",
   "metadata": {
    "colab_type": "text",
    "id": "hcELMS-ILrHq"
   },
   "source": [
    "- Source:https://archive.ics.uci.edu/ml/datasets/Online+Retail+II"
   ]
  },
  {
   "cell_type": "markdown",
   "metadata": {
    "colab_type": "text",
    "id": "r8rxr3MfLrHr"
   },
   "source": [
    "###  Real World/Business objectives and Constraints"
   ]
  },
  {
   "cell_type": "markdown",
   "metadata": {
    "colab_type": "text",
    "id": "dWcta74cLrHs"
   },
   "source": [
    "- Interpretability is important.\n",
    "- Cost of Miscategorization can be high."
   ]
  },
  {
   "cell_type": "markdown",
   "metadata": {
    "colab_type": "text",
    "id": "zMnwWgm5LrHt"
   },
   "source": [
    "## Machine Learning Problem"
   ]
  },
  {
   "cell_type": "markdown",
   "metadata": {
    "colab_type": "text",
    "id": "E50RDiEFLrHu"
   },
   "source": [
    "### Data-Set Information"
   ]
  },
  {
   "cell_type": "markdown",
   "metadata": {
    "colab_type": "text",
    "id": "JogTfzf7LrHv"
   },
   "source": [
    "This Online Retail II data set contains all the transactions occurring for a UK-based and registered, non-store online retail between 01/12/2009 and 09/12/2011.The company mainly sells unique all-occasion gift-ware. Many customers of the company are wholesalers."
   ]
  },
  {
   "cell_type": "markdown",
   "metadata": {
    "colab_type": "text",
    "id": "wVtMz90PLrHw"
   },
   "source": [
    "### Data Overview & Attribute Information"
   ]
  },
  {
   "cell_type": "markdown",
   "metadata": {
    "colab_type": "text",
    "id": "vykJMO9wLrHw"
   },
   "source": [
    "- Consists of 1067371 instances.\n",
    "\n",
    "###### Features\n",
    "\n",
    "- InvoiceNo: Invoice number. Nominal. A 6-digit integral number uniquely assigned to each transaction. If this code starts with the letter 'c', it indicates a cancellation.\n",
    "- StockCode: Product (item) code. Nominal. A 5-digit integral number uniquely assigned to each distinct product.\n",
    "- Description: Product (item) name. Nominal.\n",
    "- Quantity: The quantities of each product (item) per transaction. Numeric.\n",
    "- InvoiceDate: Invice date and time. Numeric. The day and time when a transaction was generated.\n",
    "- UnitPrice: Unit price. Numeric. Product price per unit in sterling (Â£).\n",
    "- CustomerID: Customer number. Nominal. A 5-digit integral number uniquely assigned to each customer.\n",
    "- Country: Country name. Nominal. The name of the country where a customer resides."
   ]
  },
  {
   "cell_type": "markdown",
   "metadata": {
    "colab_type": "text",
    "id": "ss-DQk7NLrHx"
   },
   "source": [
    "### Mapping Realworld problem to machine learning problem"
   ]
  },
  {
   "cell_type": "markdown",
   "metadata": {
    "colab_type": "text",
    "id": "rvGvM-0zLrHy"
   },
   "source": [
    "- This problem is a type of unsupervised learning, i.e. there is no target present in our data.\n",
    "- Cluster customers based on their behavior.It will give us an approximation about the customer purchasing behavior leading to better marketing."
   ]
  },
  {
   "cell_type": "markdown",
   "metadata": {
    "colab_type": "text",
    "id": "6bERK8WiLrHz"
   },
   "source": [
    "### Metrics"
   ]
  },
  {
   "cell_type": "markdown",
   "metadata": {
    "colab_type": "text",
    "id": "lB4MteKULrH0"
   },
   "source": [
    "- Inertia is used to measure the quality of clusters"
   ]
  },
  {
   "cell_type": "markdown",
   "metadata": {
    "colab_type": "text",
    "id": "4YxMs4M-LrH1"
   },
   "source": [
    "## Data Acquisition,Basic Statistics and Cleaning"
   ]
  },
  {
   "cell_type": "markdown",
   "metadata": {
    "colab_type": "text",
    "id": "GHo-aIIzLrH2"
   },
   "source": [
    "### Import Packages"
   ]
  },
  {
   "cell_type": "code",
   "execution_count": 2,
   "metadata": {
    "ExecuteTime": {
     "end_time": "2020-05-14T16:25:23.032292Z",
     "start_time": "2020-05-14T16:25:21.375084Z"
    },
    "colab": {
     "base_uri": "https://localhost:8080/",
     "height": 72
    },
    "colab_type": "code",
    "id": "sjYSR9f6LrH3",
    "outputId": "15a67735-a5b6-4de7-acaf-66553944e296"
   },
   "outputs": [
    {
     "name": "stderr",
     "output_type": "stream",
     "text": [
      "/usr/local/lib/python3.6/dist-packages/statsmodels/tools/_testing.py:19: FutureWarning: pandas.util.testing is deprecated. Use the functions in the public API at pandas.testing instead.\n",
      "  import pandas.util.testing as tm\n"
     ]
    }
   ],
   "source": [
    "import os\n",
    "import glob\n",
    "import pandas as pd\n",
    "import numpy as np\n",
    "import matplotlib.pyplot as plt\n",
    "import seaborn as sns\n",
    "import warnings\n",
    "warnings.filterwarnings('ignore')"
   ]
  },
  {
   "cell_type": "markdown",
   "metadata": {
    "colab_type": "text",
    "id": "9rKL9PhYLrH9"
   },
   "source": [
    "### Load Data"
   ]
  },
  {
   "cell_type": "code",
   "execution_count": 3,
   "metadata": {
    "ExecuteTime": {
     "end_time": "2020-05-14T16:25:23.100322Z",
     "start_time": "2020-05-14T16:25:23.035260Z"
    },
    "colab": {
     "base_uri": "https://localhost:8080/",
     "height": 202
    },
    "colab_type": "code",
    "id": "gDLFl2H-LrH-",
    "outputId": "8764c4fb-8598-46fe-80d7-afaa4d9f5ce3"
   },
   "outputs": [
    {
     "data": {
      "text/html": [
       "<div>\n",
       "<style scoped>\n",
       "    .dataframe tbody tr th:only-of-type {\n",
       "        vertical-align: middle;\n",
       "    }\n",
       "\n",
       "    .dataframe tbody tr th {\n",
       "        vertical-align: top;\n",
       "    }\n",
       "\n",
       "    .dataframe thead th {\n",
       "        text-align: right;\n",
       "    }\n",
       "</style>\n",
       "<table border=\"1\" class=\"dataframe\">\n",
       "  <thead>\n",
       "    <tr style=\"text-align: right;\">\n",
       "      <th></th>\n",
       "      <th>Invoice</th>\n",
       "      <th>StockCode</th>\n",
       "      <th>Description</th>\n",
       "      <th>Quantity</th>\n",
       "      <th>InvoiceDate</th>\n",
       "      <th>Price</th>\n",
       "      <th>Customer ID</th>\n",
       "      <th>Country</th>\n",
       "    </tr>\n",
       "  </thead>\n",
       "  <tbody>\n",
       "    <tr>\n",
       "      <th>0</th>\n",
       "      <td>489434</td>\n",
       "      <td>85048</td>\n",
       "      <td>15CM CHRISTMAS GLASS BALL 20 LIGHTS</td>\n",
       "      <td>12</td>\n",
       "      <td>2017-12-1</td>\n",
       "      <td>6.95</td>\n",
       "      <td>13085.0</td>\n",
       "      <td>United Kingdom</td>\n",
       "    </tr>\n",
       "    <tr>\n",
       "      <th>1</th>\n",
       "      <td>489434</td>\n",
       "      <td>79323P</td>\n",
       "      <td>PINK CHERRY LIGHTS</td>\n",
       "      <td>12</td>\n",
       "      <td>2017-12-1</td>\n",
       "      <td>6.75</td>\n",
       "      <td>13085.0</td>\n",
       "      <td>United Kingdom</td>\n",
       "    </tr>\n",
       "    <tr>\n",
       "      <th>2</th>\n",
       "      <td>489434</td>\n",
       "      <td>79323W</td>\n",
       "      <td>WHITE CHERRY LIGHTS</td>\n",
       "      <td>12</td>\n",
       "      <td>2017-12-1</td>\n",
       "      <td>6.75</td>\n",
       "      <td>13085.0</td>\n",
       "      <td>United Kingdom</td>\n",
       "    </tr>\n",
       "    <tr>\n",
       "      <th>3</th>\n",
       "      <td>489434</td>\n",
       "      <td>22041</td>\n",
       "      <td>RECORD FRAME 7\" SINGLE SIZE</td>\n",
       "      <td>48</td>\n",
       "      <td>2017-12-1</td>\n",
       "      <td>2.10</td>\n",
       "      <td>13085.0</td>\n",
       "      <td>United Kingdom</td>\n",
       "    </tr>\n",
       "    <tr>\n",
       "      <th>4</th>\n",
       "      <td>489434</td>\n",
       "      <td>21232</td>\n",
       "      <td>STRAWBERRY CERAMIC TRINKET BOX</td>\n",
       "      <td>24</td>\n",
       "      <td>2017-12-1</td>\n",
       "      <td>1.25</td>\n",
       "      <td>13085.0</td>\n",
       "      <td>United Kingdom</td>\n",
       "    </tr>\n",
       "  </tbody>\n",
       "</table>\n",
       "</div>"
      ],
      "text/plain": [
       "  Invoice StockCode  ... Customer ID         Country\n",
       "0  489434     85048  ...     13085.0  United Kingdom\n",
       "1  489434    79323P  ...     13085.0  United Kingdom\n",
       "2  489434    79323W  ...     13085.0  United Kingdom\n",
       "3  489434     22041  ...     13085.0  United Kingdom\n",
       "4  489434     21232  ...     13085.0  United Kingdom\n",
       "\n",
       "[5 rows x 8 columns]"
      ]
     },
     "execution_count": 3,
     "metadata": {
      "tags": []
     },
     "output_type": "execute_result"
    }
   ],
   "source": [
    "base_data=pd.read_csv(r\"/content/drive/My Drive/A6/OnlineRetailV3.csv\")\n",
    "base_data.head()"
   ]
  },
  {
   "cell_type": "code",
   "execution_count": 4,
   "metadata": {
    "ExecuteTime": {
     "end_time": "2020-05-14T16:25:23.365496Z",
     "start_time": "2020-05-14T16:25:23.104310Z"
    },
    "colab": {
     "base_uri": "https://localhost:8080/",
     "height": 34
    },
    "colab_type": "code",
    "id": "D5L7-ExdLrIE",
    "outputId": "0a22e549-dcd0-4d21-9010-7b4bb89ad9b5"
   },
   "outputs": [
    {
     "name": "stdout",
     "output_type": "stream",
     "text": [
      "Number of instances:1067371,Number of features:8\n"
     ]
    }
   ],
   "source": [
    "print(f\"Number of instances:{base_data.shape[0]},Number of features:{base_data.shape[1]}\")"
   ]
  },
  {
   "cell_type": "markdown",
   "metadata": {
    "colab_type": "text",
    "id": "EVkwrz8-LrIJ"
   },
   "source": [
    "### Data Description"
   ]
  },
  {
   "cell_type": "code",
   "execution_count": 5,
   "metadata": {
    "ExecuteTime": {
     "end_time": "2020-05-14T16:25:23.565639Z",
     "start_time": "2020-05-14T16:25:23.370519Z"
    },
    "colab": {
     "base_uri": "https://localhost:8080/",
     "height": 294
    },
    "colab_type": "code",
    "id": "ivbOTSGILrIK",
    "outputId": "cd95d1e4-2fa2-4816-a613-b31a0dbc76c4"
   },
   "outputs": [
    {
     "data": {
      "text/html": [
       "<div>\n",
       "<style scoped>\n",
       "    .dataframe tbody tr th:only-of-type {\n",
       "        vertical-align: middle;\n",
       "    }\n",
       "\n",
       "    .dataframe tbody tr th {\n",
       "        vertical-align: top;\n",
       "    }\n",
       "\n",
       "    .dataframe thead th {\n",
       "        text-align: right;\n",
       "    }\n",
       "</style>\n",
       "<table border=\"1\" class=\"dataframe\">\n",
       "  <thead>\n",
       "    <tr style=\"text-align: right;\">\n",
       "      <th></th>\n",
       "      <th>Quantity</th>\n",
       "      <th>Price</th>\n",
       "      <th>Customer ID</th>\n",
       "    </tr>\n",
       "  </thead>\n",
       "  <tbody>\n",
       "    <tr>\n",
       "      <th>count</th>\n",
       "      <td>1.067371e+06</td>\n",
       "      <td>1.067371e+06</td>\n",
       "      <td>824364.000000</td>\n",
       "    </tr>\n",
       "    <tr>\n",
       "      <th>mean</th>\n",
       "      <td>9.938898e+00</td>\n",
       "      <td>4.649388e+00</td>\n",
       "      <td>15324.638504</td>\n",
       "    </tr>\n",
       "    <tr>\n",
       "      <th>std</th>\n",
       "      <td>1.727058e+02</td>\n",
       "      <td>1.235531e+02</td>\n",
       "      <td>1697.464450</td>\n",
       "    </tr>\n",
       "    <tr>\n",
       "      <th>min</th>\n",
       "      <td>-8.099500e+04</td>\n",
       "      <td>-5.359436e+04</td>\n",
       "      <td>12346.000000</td>\n",
       "    </tr>\n",
       "    <tr>\n",
       "      <th>25%</th>\n",
       "      <td>1.000000e+00</td>\n",
       "      <td>1.250000e+00</td>\n",
       "      <td>13975.000000</td>\n",
       "    </tr>\n",
       "    <tr>\n",
       "      <th>50%</th>\n",
       "      <td>3.000000e+00</td>\n",
       "      <td>2.100000e+00</td>\n",
       "      <td>15255.000000</td>\n",
       "    </tr>\n",
       "    <tr>\n",
       "      <th>75%</th>\n",
       "      <td>1.000000e+01</td>\n",
       "      <td>4.150000e+00</td>\n",
       "      <td>16797.000000</td>\n",
       "    </tr>\n",
       "    <tr>\n",
       "      <th>max</th>\n",
       "      <td>8.099500e+04</td>\n",
       "      <td>3.897000e+04</td>\n",
       "      <td>18287.000000</td>\n",
       "    </tr>\n",
       "  </tbody>\n",
       "</table>\n",
       "</div>"
      ],
      "text/plain": [
       "           Quantity         Price    Customer ID\n",
       "count  1.067371e+06  1.067371e+06  824364.000000\n",
       "mean   9.938898e+00  4.649388e+00   15324.638504\n",
       "std    1.727058e+02  1.235531e+02    1697.464450\n",
       "min   -8.099500e+04 -5.359436e+04   12346.000000\n",
       "25%    1.000000e+00  1.250000e+00   13975.000000\n",
       "50%    3.000000e+00  2.100000e+00   15255.000000\n",
       "75%    1.000000e+01  4.150000e+00   16797.000000\n",
       "max    8.099500e+04  3.897000e+04   18287.000000"
      ]
     },
     "execution_count": 5,
     "metadata": {
      "tags": []
     },
     "output_type": "execute_result"
    }
   ],
   "source": [
    "base_data.describe()"
   ]
  },
  {
   "cell_type": "markdown",
   "metadata": {
    "colab_type": "text",
    "id": "ky4VkzujLrIP"
   },
   "source": [
    "###### Observation:\n",
    "- Average price of all sales was **&pound;4.64 pounds**\n",
    "- Average  Customer bought around 10 quantity .\n",
    "- 25% of customers bought products with unit quantity.\n",
    "- 75% of customers bought products with quantity <=10.\n",
    "- Max quantity purchased is **&pound;80995 pounds**0.\n",
    "- Maximum unit price is **&pound;38970 pounds**\n",
    "- Initial Statistics shows that price and quantity have otliers in the data"
   ]
  },
  {
   "cell_type": "markdown",
   "metadata": {
    "colab_type": "text",
    "id": "57A8bcdZLrIP"
   },
   "source": [
    "### Null Value treatmment"
   ]
  },
  {
   "cell_type": "code",
   "execution_count": 6,
   "metadata": {
    "ExecuteTime": {
     "end_time": "2020-05-14T16:25:23.772801Z",
     "start_time": "2020-05-14T16:25:23.568639Z"
    },
    "colab": {
     "base_uri": "https://localhost:8080/",
     "height": 97
    },
    "colab_type": "code",
    "id": "GpYFOAVFLrIQ",
    "outputId": "fbad854f-2f8d-4a7c-8f7e-ad6a7e502c02"
   },
   "outputs": [
    {
     "name": "stdout",
     "output_type": "stream",
     "text": [
      "Null values in each features:\n"
     ]
    },
    {
     "data": {
      "text/html": [
       "<div>\n",
       "<style scoped>\n",
       "    .dataframe tbody tr th:only-of-type {\n",
       "        vertical-align: middle;\n",
       "    }\n",
       "\n",
       "    .dataframe tbody tr th {\n",
       "        vertical-align: top;\n",
       "    }\n",
       "\n",
       "    .dataframe thead th {\n",
       "        text-align: right;\n",
       "    }\n",
       "</style>\n",
       "<table border=\"1\" class=\"dataframe\">\n",
       "  <thead>\n",
       "    <tr style=\"text-align: right;\">\n",
       "      <th></th>\n",
       "      <th>Invoice</th>\n",
       "      <th>StockCode</th>\n",
       "      <th>Description</th>\n",
       "      <th>Quantity</th>\n",
       "      <th>InvoiceDate</th>\n",
       "      <th>Price</th>\n",
       "      <th>Customer ID</th>\n",
       "      <th>Country</th>\n",
       "    </tr>\n",
       "  </thead>\n",
       "  <tbody>\n",
       "    <tr>\n",
       "      <th>null_values</th>\n",
       "      <td>0</td>\n",
       "      <td>0</td>\n",
       "      <td>4382</td>\n",
       "      <td>0</td>\n",
       "      <td>0</td>\n",
       "      <td>0</td>\n",
       "      <td>243007</td>\n",
       "      <td>0</td>\n",
       "    </tr>\n",
       "  </tbody>\n",
       "</table>\n",
       "</div>"
      ],
      "text/plain": [
       "             Invoice  StockCode  Description  ...  Price  Customer ID  Country\n",
       "null_values        0          0         4382  ...      0       243007        0\n",
       "\n",
       "[1 rows x 8 columns]"
      ]
     },
     "execution_count": 6,
     "metadata": {
      "tags": []
     },
     "output_type": "execute_result"
    }
   ],
   "source": [
    "null_df=pd.DataFrame(base_data.isna().sum(),columns=['null_values'])\n",
    "print(\"Null values in each features:\")\n",
    "null_df=null_df.T\n",
    "null_df"
   ]
  },
  {
   "cell_type": "markdown",
   "metadata": {
    "ExecuteTime": {
     "end_time": "2020-05-14T10:10:04.932228Z",
     "start_time": "2020-05-14T10:10:03.965541Z"
    },
    "colab_type": "text",
    "id": "jvygQKARLrIV"
   },
   "source": [
    "- columns with null values are:Description-4382 and Customer ID-243007\n",
    "- As we have enough data to process, it won't hurt us to drop the columns with null values."
   ]
  },
  {
   "cell_type": "code",
   "execution_count": 7,
   "metadata": {
    "ExecuteTime": {
     "end_time": "2020-05-14T16:25:23.940904Z",
     "start_time": "2020-05-14T16:25:23.775790Z"
    },
    "colab": {
     "base_uri": "https://localhost:8080/",
     "height": 97
    },
    "colab_type": "code",
    "id": "0g7HJyjYLrIV",
    "outputId": "52832f8f-18e5-41ff-9521-a1de405f614a"
   },
   "outputs": [
    {
     "name": "stdout",
     "output_type": "stream",
     "text": [
      "Null values after treatment:\n"
     ]
    },
    {
     "data": {
      "text/html": [
       "<div>\n",
       "<style scoped>\n",
       "    .dataframe tbody tr th:only-of-type {\n",
       "        vertical-align: middle;\n",
       "    }\n",
       "\n",
       "    .dataframe tbody tr th {\n",
       "        vertical-align: top;\n",
       "    }\n",
       "\n",
       "    .dataframe thead th {\n",
       "        text-align: right;\n",
       "    }\n",
       "</style>\n",
       "<table border=\"1\" class=\"dataframe\">\n",
       "  <thead>\n",
       "    <tr style=\"text-align: right;\">\n",
       "      <th></th>\n",
       "      <th>Invoice</th>\n",
       "      <th>StockCode</th>\n",
       "      <th>Description</th>\n",
       "      <th>Quantity</th>\n",
       "      <th>InvoiceDate</th>\n",
       "      <th>Price</th>\n",
       "      <th>Customer ID</th>\n",
       "      <th>Country</th>\n",
       "    </tr>\n",
       "  </thead>\n",
       "  <tbody>\n",
       "    <tr>\n",
       "      <th>null_values</th>\n",
       "      <td>0</td>\n",
       "      <td>0</td>\n",
       "      <td>0</td>\n",
       "      <td>0</td>\n",
       "      <td>0</td>\n",
       "      <td>0</td>\n",
       "      <td>0</td>\n",
       "      <td>0</td>\n",
       "    </tr>\n",
       "  </tbody>\n",
       "</table>\n",
       "</div>"
      ],
      "text/plain": [
       "             Invoice  StockCode  Description  ...  Price  Customer ID  Country\n",
       "null_values        0          0            0  ...      0            0        0\n",
       "\n",
       "[1 rows x 8 columns]"
      ]
     },
     "execution_count": 7,
     "metadata": {
      "tags": []
     },
     "output_type": "execute_result"
    }
   ],
   "source": [
    "base_data.dropna(subset=['Customer ID','Description'],inplace=True)\n",
    "print(\"Null values after treatment:\")\n",
    "null_df_new=pd.DataFrame(base_data.isna().sum(),columns=['null_values'])\n",
    "null_df_new=null_df_new.T\n",
    "null_df_new"
   ]
  },
  {
   "cell_type": "markdown",
   "metadata": {
    "colab_type": "text",
    "id": "gWS2lsm7LrIc"
   },
   "source": [
    "- We have eliminated rows/records with null value:"
   ]
  },
  {
   "cell_type": "markdown",
   "metadata": {
    "colab_type": "text",
    "id": "zIyqrloSLrId"
   },
   "source": [
    "### Zero value Treatment"
   ]
  },
  {
   "cell_type": "code",
   "execution_count": 8,
   "metadata": {
    "ExecuteTime": {
     "end_time": "2020-05-14T16:25:24.138045Z",
     "start_time": "2020-05-14T16:25:23.943909Z"
    },
    "colab": {
     "base_uri": "https://localhost:8080/",
     "height": 97
    },
    "colab_type": "code",
    "id": "Av3LgUQmLrIe",
    "outputId": "157b3e1d-09ac-4b68-f991-21aacb9d7690"
   },
   "outputs": [
    {
     "name": "stdout",
     "output_type": "stream",
     "text": [
      "Number of records were value is zero\n"
     ]
    },
    {
     "data": {
      "text/html": [
       "<div>\n",
       "<style scoped>\n",
       "    .dataframe tbody tr th:only-of-type {\n",
       "        vertical-align: middle;\n",
       "    }\n",
       "\n",
       "    .dataframe tbody tr th {\n",
       "        vertical-align: top;\n",
       "    }\n",
       "\n",
       "    .dataframe thead th {\n",
       "        text-align: right;\n",
       "    }\n",
       "</style>\n",
       "<table border=\"1\" class=\"dataframe\">\n",
       "  <thead>\n",
       "    <tr style=\"text-align: right;\">\n",
       "      <th></th>\n",
       "      <th>Invoice</th>\n",
       "      <th>StockCode</th>\n",
       "      <th>Description</th>\n",
       "      <th>Quantity</th>\n",
       "      <th>InvoiceDate</th>\n",
       "      <th>Price</th>\n",
       "      <th>Customer ID</th>\n",
       "      <th>Country</th>\n",
       "    </tr>\n",
       "  </thead>\n",
       "  <tbody>\n",
       "    <tr>\n",
       "      <th>zeros</th>\n",
       "      <td>0</td>\n",
       "      <td>0</td>\n",
       "      <td>0</td>\n",
       "      <td>0</td>\n",
       "      <td>0</td>\n",
       "      <td>71</td>\n",
       "      <td>0</td>\n",
       "      <td>0</td>\n",
       "    </tr>\n",
       "  </tbody>\n",
       "</table>\n",
       "</div>"
      ],
      "text/plain": [
       "       Invoice  StockCode  Description  ...  Price  Customer ID  Country\n",
       "zeros        0          0            0  ...     71            0        0\n",
       "\n",
       "[1 rows x 8 columns]"
      ]
     },
     "execution_count": 8,
     "metadata": {
      "tags": []
     },
     "output_type": "execute_result"
    }
   ],
   "source": [
    "zero_df=pd.DataFrame(base_data[base_data==0].count(),columns=['zeros'])\n",
    "zero_df=zero_df.T\n",
    "print(\"Number of records were value is zero\")\n",
    "zero_df"
   ]
  },
  {
   "cell_type": "markdown",
   "metadata": {
    "colab_type": "text",
    "id": "dtC9uUxzLrIi"
   },
   "source": [
    "- Their are total 71 record were price is 0.\n",
    "- Price of a product cannot be zero.It may be because that particular order is cancelled.\n",
    "- The number of instances/records gives us the luxury to drop records were values are zero."
   ]
  },
  {
   "cell_type": "code",
   "execution_count": 9,
   "metadata": {
    "ExecuteTime": {
     "end_time": "2020-05-14T16:25:24.251124Z",
     "start_time": "2020-05-14T16:25:24.142050Z"
    },
    "colab": {
     "base_uri": "https://localhost:8080/",
     "height": 97
    },
    "colab_type": "code",
    "id": "CF1m-wwRLrIj",
    "outputId": "7af96fc1-eecd-4c1a-aa41-5ba1ef0d7591"
   },
   "outputs": [
    {
     "name": "stdout",
     "output_type": "stream",
     "text": [
      "Number of records were value is zero-after treatment\n"
     ]
    },
    {
     "data": {
      "text/html": [
       "<div>\n",
       "<style scoped>\n",
       "    .dataframe tbody tr th:only-of-type {\n",
       "        vertical-align: middle;\n",
       "    }\n",
       "\n",
       "    .dataframe tbody tr th {\n",
       "        vertical-align: top;\n",
       "    }\n",
       "\n",
       "    .dataframe thead th {\n",
       "        text-align: right;\n",
       "    }\n",
       "</style>\n",
       "<table border=\"1\" class=\"dataframe\">\n",
       "  <thead>\n",
       "    <tr style=\"text-align: right;\">\n",
       "      <th></th>\n",
       "      <th>Invoice</th>\n",
       "      <th>StockCode</th>\n",
       "      <th>Description</th>\n",
       "      <th>Quantity</th>\n",
       "      <th>InvoiceDate</th>\n",
       "      <th>Price</th>\n",
       "      <th>Customer ID</th>\n",
       "      <th>Country</th>\n",
       "    </tr>\n",
       "  </thead>\n",
       "  <tbody>\n",
       "    <tr>\n",
       "      <th>zeros</th>\n",
       "      <td>0</td>\n",
       "      <td>0</td>\n",
       "      <td>0</td>\n",
       "      <td>0</td>\n",
       "      <td>0</td>\n",
       "      <td>0</td>\n",
       "      <td>0</td>\n",
       "      <td>0</td>\n",
       "    </tr>\n",
       "  </tbody>\n",
       "</table>\n",
       "</div>"
      ],
      "text/plain": [
       "       Invoice  StockCode  Description  ...  Price  Customer ID  Country\n",
       "zeros        0          0            0  ...      0            0        0\n",
       "\n",
       "[1 rows x 8 columns]"
      ]
     },
     "execution_count": 9,
     "metadata": {
      "tags": []
     },
     "output_type": "execute_result"
    }
   ],
   "source": [
    "base_data=base_data.loc[base_data['Price']!=0]\n",
    "zero_df_new=pd.DataFrame(base_data[base_data==0].count(),columns=['zeros'])\n",
    "zero_df_new=zero_df_new.T\n",
    "print(\"Number of records were value is zero-after treatment\")\n",
    "zero_df_new"
   ]
  },
  {
   "cell_type": "markdown",
   "metadata": {
    "colab_type": "text",
    "id": "V8MFH0t0LrIn"
   },
   "source": [
    "- We have removed all the records where price is zero"
   ]
  },
  {
   "cell_type": "markdown",
   "metadata": {
    "colab_type": "text",
    "id": "t1pnvmWgLrIo"
   },
   "source": [
    "### De duplication"
   ]
  },
  {
   "cell_type": "code",
   "execution_count": 10,
   "metadata": {
    "ExecuteTime": {
     "end_time": "2020-05-14T16:25:24.475287Z",
     "start_time": "2020-05-14T16:25:24.255127Z"
    },
    "colab": {
     "base_uri": "https://localhost:8080/",
     "height": 86
    },
    "colab_type": "code",
    "id": "JZ1P-GDVLrIp",
    "outputId": "d2a48b14-ec44-4748-cfc6-864b0a887658"
   },
   "outputs": [
    {
     "name": "stdout",
     "output_type": "stream",
     "text": [
      "Number of duplicated records before deduplication:26480\n",
      "shape of data before de duplication:(824293, 8)\n",
      "Number of duplicated records after de duplication:0\n",
      "shape of data after de duplication:(797813, 8)\n"
     ]
    }
   ],
   "source": [
    "base_data_copy=base_data.copy()\n",
    "duplicated=base_data_copy.duplicated().sum()\n",
    "print(f\"Number of duplicated records before deduplication:{duplicated}\")\n",
    "print(f\"shape of data before de duplication:{base_data_copy.shape}\")\n",
    "base_data.drop_duplicates(inplace=True)\n",
    "duplicated=base_data.duplicated().sum()\n",
    "print(f\"Number of duplicated records after de duplication:{duplicated}\")\n",
    "print(f\"shape of data after de duplication:{base_data.shape}\")"
   ]
  },
  {
   "cell_type": "markdown",
   "metadata": {
    "colab_type": "text",
    "id": "aYEsEww_LrIt"
   },
   "source": [
    "### Data Types Treatment"
   ]
  },
  {
   "cell_type": "code",
   "execution_count": 11,
   "metadata": {
    "ExecuteTime": {
     "end_time": "2020-05-14T16:25:24.620389Z",
     "start_time": "2020-05-14T16:25:24.478288Z"
    },
    "colab": {
     "base_uri": "https://localhost:8080/",
     "height": 97
    },
    "colab_type": "code",
    "id": "E2-H63ZlLrIu",
    "outputId": "850c6e8c-b0d8-4eaf-cffe-7b09fb9e2185"
   },
   "outputs": [
    {
     "name": "stdout",
     "output_type": "stream",
     "text": [
      "Data types of each features\n"
     ]
    },
    {
     "data": {
      "text/html": [
       "<div>\n",
       "<style scoped>\n",
       "    .dataframe tbody tr th:only-of-type {\n",
       "        vertical-align: middle;\n",
       "    }\n",
       "\n",
       "    .dataframe tbody tr th {\n",
       "        vertical-align: top;\n",
       "    }\n",
       "\n",
       "    .dataframe thead th {\n",
       "        text-align: right;\n",
       "    }\n",
       "</style>\n",
       "<table border=\"1\" class=\"dataframe\">\n",
       "  <thead>\n",
       "    <tr style=\"text-align: right;\">\n",
       "      <th></th>\n",
       "      <th>Invoice</th>\n",
       "      <th>StockCode</th>\n",
       "      <th>Description</th>\n",
       "      <th>Quantity</th>\n",
       "      <th>InvoiceDate</th>\n",
       "      <th>Price</th>\n",
       "      <th>Customer ID</th>\n",
       "      <th>Country</th>\n",
       "    </tr>\n",
       "  </thead>\n",
       "  <tbody>\n",
       "    <tr>\n",
       "      <th>dtype</th>\n",
       "      <td>object</td>\n",
       "      <td>object</td>\n",
       "      <td>object</td>\n",
       "      <td>int64</td>\n",
       "      <td>object</td>\n",
       "      <td>float64</td>\n",
       "      <td>float64</td>\n",
       "      <td>object</td>\n",
       "    </tr>\n",
       "  </tbody>\n",
       "</table>\n",
       "</div>"
      ],
      "text/plain": [
       "      Invoice StockCode Description  ...    Price Customer ID Country\n",
       "dtype  object    object      object  ...  float64     float64  object\n",
       "\n",
       "[1 rows x 8 columns]"
      ]
     },
     "execution_count": 11,
     "metadata": {
      "tags": []
     },
     "output_type": "execute_result"
    }
   ],
   "source": [
    "data_type_df=pd.DataFrame(base_data.dtypes,columns=['dtype'])\n",
    "data_type_df=data_type_df.T\n",
    "print(\"Data types of each features\")\n",
    "data_type_df"
   ]
  },
  {
   "cell_type": "markdown",
   "metadata": {
    "colab_type": "text",
    "id": "M45gD4rtLrIz"
   },
   "source": [
    "- Customer ID should be of datatype int."
   ]
  },
  {
   "cell_type": "code",
   "execution_count": 12,
   "metadata": {
    "ExecuteTime": {
     "end_time": "2020-05-14T16:25:24.788508Z",
     "start_time": "2020-05-14T16:25:24.622389Z"
    },
    "colab": {
     "base_uri": "https://localhost:8080/",
     "height": 97
    },
    "colab_type": "code",
    "id": "nGERwVeSLrI0",
    "outputId": "4b5e7111-2809-4291-8004-e2e306e648d7"
   },
   "outputs": [
    {
     "name": "stdout",
     "output_type": "stream",
     "text": [
      "Data types of each features-after treatment\n"
     ]
    },
    {
     "data": {
      "text/html": [
       "<div>\n",
       "<style scoped>\n",
       "    .dataframe tbody tr th:only-of-type {\n",
       "        vertical-align: middle;\n",
       "    }\n",
       "\n",
       "    .dataframe tbody tr th {\n",
       "        vertical-align: top;\n",
       "    }\n",
       "\n",
       "    .dataframe thead th {\n",
       "        text-align: right;\n",
       "    }\n",
       "</style>\n",
       "<table border=\"1\" class=\"dataframe\">\n",
       "  <thead>\n",
       "    <tr style=\"text-align: right;\">\n",
       "      <th></th>\n",
       "      <th>Invoice</th>\n",
       "      <th>StockCode</th>\n",
       "      <th>Description</th>\n",
       "      <th>Quantity</th>\n",
       "      <th>InvoiceDate</th>\n",
       "      <th>Price</th>\n",
       "      <th>Customer ID</th>\n",
       "      <th>Country</th>\n",
       "    </tr>\n",
       "  </thead>\n",
       "  <tbody>\n",
       "    <tr>\n",
       "      <th>dtype</th>\n",
       "      <td>object</td>\n",
       "      <td>object</td>\n",
       "      <td>object</td>\n",
       "      <td>int64</td>\n",
       "      <td>datetime64[ns]</td>\n",
       "      <td>float64</td>\n",
       "      <td>int64</td>\n",
       "      <td>object</td>\n",
       "    </tr>\n",
       "  </tbody>\n",
       "</table>\n",
       "</div>"
      ],
      "text/plain": [
       "      Invoice StockCode Description  ...    Price Customer ID Country\n",
       "dtype  object    object      object  ...  float64       int64  object\n",
       "\n",
       "[1 rows x 8 columns]"
      ]
     },
     "execution_count": 12,
     "metadata": {
      "tags": []
     },
     "output_type": "execute_result"
    }
   ],
   "source": [
    "# For datetime\n",
    "import datetime\n",
    "from datetime import datetime as dt\n",
    "\n",
    "base_data['Customer ID'] = base_data['Customer ID'].astype(np.int64)\n",
    "\n",
    "# Removing Time Factor (Example: 2017-12-01 07:45:00 --> 2017-12-01)\n",
    "base_data['InvoiceDate'] = pd.to_datetime(base_data['InvoiceDate']).apply(dt.date)\n",
    "\n",
    "# Transforming Object Type to Datetime\n",
    "base_data['InvoiceDate'] = pd.to_datetime(base_data['InvoiceDate'])\n",
    "\n",
    "data_type_df_new=pd.DataFrame(base_data.dtypes,columns=['dtype'])\n",
    "\n",
    "data_type_df_new=data_type_df_new.T\n",
    "print(\"Data types of each features-after treatment\")\n",
    "data_type_df_new"
   ]
  },
  {
   "cell_type": "markdown",
   "metadata": {
    "colab_type": "text",
    "id": "nWtrqUalLrI4"
   },
   "source": [
    "- Changed datatype of Customer ID from float to int"
   ]
  },
  {
   "cell_type": "markdown",
   "metadata": {
    "colab_type": "text",
    "id": "2GsZp8amLrI5"
   },
   "source": [
    "### Negative value Treatment"
   ]
  },
  {
   "cell_type": "code",
   "execution_count": 13,
   "metadata": {
    "ExecuteTime": {
     "end_time": "2020-05-14T16:25:24.962630Z",
     "start_time": "2020-05-14T16:25:24.792509Z"
    },
    "colab": {
     "base_uri": "https://localhost:8080/",
     "height": 97
    },
    "colab_type": "code",
    "id": "Dy6ewsRLLrI6",
    "outputId": "ebe4d98b-da97-4315-b16c-4be594b5adc0"
   },
   "outputs": [
    {
     "name": "stdout",
     "output_type": "stream",
     "text": [
      "Number of records were value is less than zero\n"
     ]
    },
    {
     "data": {
      "text/html": [
       "<div>\n",
       "<style scoped>\n",
       "    .dataframe tbody tr th:only-of-type {\n",
       "        vertical-align: middle;\n",
       "    }\n",
       "\n",
       "    .dataframe tbody tr th {\n",
       "        vertical-align: top;\n",
       "    }\n",
       "\n",
       "    .dataframe thead th {\n",
       "        text-align: right;\n",
       "    }\n",
       "</style>\n",
       "<table border=\"1\" class=\"dataframe\">\n",
       "  <thead>\n",
       "    <tr style=\"text-align: right;\">\n",
       "      <th></th>\n",
       "      <th>Price</th>\n",
       "      <th>Quantity</th>\n",
       "    </tr>\n",
       "  </thead>\n",
       "  <tbody>\n",
       "    <tr>\n",
       "      <th>neg_values</th>\n",
       "      <td>0</td>\n",
       "      <td>18390</td>\n",
       "    </tr>\n",
       "  </tbody>\n",
       "</table>\n",
       "</div>"
      ],
      "text/plain": [
       "            Price  Quantity\n",
       "neg_values      0     18390"
      ]
     },
     "execution_count": 13,
     "metadata": {
      "tags": []
     },
     "output_type": "execute_result"
    }
   ],
   "source": [
    "temp_df=base_data[['Price','Quantity']]\n",
    "neg_df=pd.DataFrame(temp_df[temp_df<0].count(),columns=['neg_values'])\n",
    "neg_df=neg_df.T\n",
    "print(\"Number of records were value is less than zero\")\n",
    "neg_df"
   ]
  },
  {
   "cell_type": "markdown",
   "metadata": {
    "colab_type": "text",
    "id": "G8bjWGkMLrI-"
   },
   "source": [
    "- There are total 18390 records where quantity is negative"
   ]
  },
  {
   "cell_type": "code",
   "execution_count": 14,
   "metadata": {
    "ExecuteTime": {
     "end_time": "2020-05-14T16:25:25.134752Z",
     "start_time": "2020-05-14T16:25:24.967637Z"
    },
    "colab": {
     "base_uri": "https://localhost:8080/",
     "height": 97
    },
    "colab_type": "code",
    "id": "WK5BaEmDLrI-",
    "outputId": "e3481e67-8809-4e4c-a848-c4d163b9052f"
   },
   "outputs": [
    {
     "name": "stdout",
     "output_type": "stream",
     "text": [
      "Number of records were value is less than zero-after treatment\n"
     ]
    },
    {
     "data": {
      "text/html": [
       "<div>\n",
       "<style scoped>\n",
       "    .dataframe tbody tr th:only-of-type {\n",
       "        vertical-align: middle;\n",
       "    }\n",
       "\n",
       "    .dataframe tbody tr th {\n",
       "        vertical-align: top;\n",
       "    }\n",
       "\n",
       "    .dataframe thead th {\n",
       "        text-align: right;\n",
       "    }\n",
       "</style>\n",
       "<table border=\"1\" class=\"dataframe\">\n",
       "  <thead>\n",
       "    <tr style=\"text-align: right;\">\n",
       "      <th></th>\n",
       "      <th>Price</th>\n",
       "      <th>Quantity</th>\n",
       "    </tr>\n",
       "  </thead>\n",
       "  <tbody>\n",
       "    <tr>\n",
       "      <th>neg_values</th>\n",
       "      <td>0</td>\n",
       "      <td>0</td>\n",
       "    </tr>\n",
       "  </tbody>\n",
       "</table>\n",
       "</div>"
      ],
      "text/plain": [
       "            Price  Quantity\n",
       "neg_values      0         0"
      ]
     },
     "execution_count": 14,
     "metadata": {
      "tags": []
     },
     "output_type": "execute_result"
    }
   ],
   "source": [
    "base_data['Quantity']=np.abs(base_data['Quantity'])\n",
    "base_data['Price']=np.abs(base_data['Price'])\n",
    "temp_df=base_data[['Price','Quantity']]\n",
    "neg_df=pd.DataFrame(temp_df[temp_df<0].count(),columns=['neg_values'])\n",
    "neg_df=neg_df.T\n",
    "print(\"Number of records were value is less than zero-after treatment\")\n",
    "neg_df"
   ]
  },
  {
   "cell_type": "markdown",
   "metadata": {
    "colab_type": "text",
    "id": "0QpMXzctLrJC"
   },
   "source": [
    "- We have taken absolute values of quantity"
   ]
  },
  {
   "cell_type": "markdown",
   "metadata": {
    "colab_type": "text",
    "id": "rG8u2TUJLrJm"
   },
   "source": [
    "## Feature Extraction"
   ]
  },
  {
   "cell_type": "markdown",
   "metadata": {
    "colab_type": "text",
    "id": "zyrMQXxdLrJn"
   },
   "source": [
    "### Total_price"
   ]
  },
  {
   "cell_type": "code",
   "execution_count": 0,
   "metadata": {
    "ExecuteTime": {
     "end_time": "2020-05-14T16:25:27.083137Z",
     "start_time": "2020-05-14T16:25:27.076131Z"
    },
    "colab": {},
    "colab_type": "code",
    "id": "Wt84xkmXLrJo"
   },
   "outputs": [],
   "source": [
    "base_data['Total_price']=base_data['Price']*base_data['Quantity']"
   ]
  },
  {
   "cell_type": "markdown",
   "metadata": {
    "colab_type": "text",
    "id": "b7f8BlPRLrJt"
   },
   "source": [
    "- New feature-->Total_price=Price*Quantity"
   ]
  },
  {
   "cell_type": "code",
   "execution_count": 16,
   "metadata": {
    "ExecuteTime": {
     "end_time": "2020-05-14T16:25:27.236274Z",
     "start_time": "2020-05-14T16:25:27.086138Z"
    },
    "colab": {
     "base_uri": "https://localhost:8080/",
     "height": 69
    },
    "colab_type": "code",
    "id": "b2geWJadLrJu",
    "outputId": "b60d5efa-08cc-42bf-bd50-0be2475f1eed"
   },
   "outputs": [
    {
     "data": {
      "text/plain": [
       "Index(['Invoice', 'StockCode', 'Description', 'Quantity', 'InvoiceDate',\n",
       "       'Price', 'Customer ID', 'Country', 'Total_price'],\n",
       "      dtype='object')"
      ]
     },
     "execution_count": 16,
     "metadata": {
      "tags": []
     },
     "output_type": "execute_result"
    }
   ],
   "source": [
    "import pickle\n",
    "with open('/content/drive/My Drive/A6/base_data_cleaned','wb')as f:\n",
    "  pickle.dump([base_data],f)\n",
    "base_data.columns"
   ]
  },
  {
   "cell_type": "markdown",
   "metadata": {
    "colab_type": "text",
    "id": "D5xMG1OdLrJx"
   },
   "source": [
    "## Advanced EDA"
   ]
  },
  {
   "cell_type": "markdown",
   "metadata": {
    "colab_type": "text",
    "id": "ujMLSLFcLrJy"
   },
   "source": [
    "### Amount spend by countries:Top ten "
   ]
  },
  {
   "cell_type": "code",
   "execution_count": 17,
   "metadata": {
    "ExecuteTime": {
     "end_time": "2020-05-14T16:25:27.762621Z",
     "start_time": "2020-05-14T16:25:27.250256Z"
    },
    "colab": {
     "base_uri": "https://localhost:8080/",
     "height": 472
    },
    "colab_type": "code",
    "id": "pJT1rri3LrJz",
    "outputId": "b8568370-2c5e-4247-d6ee-f6143173634b"
   },
   "outputs": [
    {
     "data": {
      "text/plain": [
       "Text(0.5, 1.0, 'Country vs Total_price')"
      ]
     },
     "execution_count": 17,
     "metadata": {
      "tags": []
     },
     "output_type": "execute_result"
    },
    {
     "data": {
      "image/png": "[encoded data removed]",
      "text/plain": [
       "<Figure size 720x360 with 1 Axes>"
      ]
     },
     "metadata": {
      "tags": []
     },
     "output_type": "display_data"
    }
   ],
   "source": [
    "df=pd.DataFrame(base_data.groupby('Country')['Total_price'].sum().sort_values(ascending=False))\n",
    "sns.set(font_scale=1.2)\n",
    "y_val=df['Total_price'].values[:10]\n",
    "x_val=df.index[:10]\n",
    "plt.figure(figsize=(10,5))\n",
    "sns.barplot(x=x_val,y=y_val)\n",
    "plt.xticks(rotation=90)\n",
    "plt.title(\"Country vs Total_price\")"
   ]
  },
  {
   "cell_type": "markdown",
   "metadata": {},
   "source": [
    "**Observation:**\n",
    "\n",
    "- **United Kingdom** **spent** **highest** than any other country on buying items."
   ]
  },
  {
   "cell_type": "markdown",
   "metadata": {
    "colab_type": "text",
    "id": "_d8ZJR4FLrJ7"
   },
   "source": [
    "### Demand of products:Top ten"
   ]
  },
  {
   "cell_type": "code",
   "execution_count": 18,
   "metadata": {
    "ExecuteTime": {
     "end_time": "2020-05-14T16:25:28.181919Z",
     "start_time": "2020-05-14T16:25:27.766624Z"
    },
    "colab": {
     "base_uri": "https://localhost:8080/",
     "height": 637
    },
    "colab_type": "code",
    "id": "TaZ13R4RLrJ8",
    "outputId": "f632a640-08da-4719-d2de-4042e463563e"
   },
   "outputs": [
    {
     "data": {
      "text/plain": [
       "Text(0.5, 1.0, 'Description vs Quantity')"
      ]
     },
     "execution_count": 18,
     "metadata": {
      "tags": []
     },
     "output_type": "execute_result"
    },
    {
     "data": {
      "image/png": "[encoded data removed]",
      "text/plain": [
       "<Figure size 720x360 with 1 Axes>"
      ]
     },
     "metadata": {
      "tags": []
     },
     "output_type": "display_data"
    }
   ],
   "source": [
    "df=pd.DataFrame(base_data.groupby('Description')['Quantity'].sum().sort_values(ascending=False))\n",
    "y_val=df['Quantity'].values[:10]\n",
    "x_val=df.index[:10]\n",
    "plt.figure(figsize=(10,5))\n",
    "sns.barplot(x=x_val,y=y_val)\n",
    "plt.xticks(rotation=90)\n",
    "plt.title(\"Description vs Quantity\")"
   ]
  },
  {
   "cell_type": "markdown",
   "metadata": {},
   "source": [
    "**Observation:**\n",
    "\n",
    "- **Paper craft,Storage jar** has been **sold** at **highest** **amount** of **quantity** than any other product item."
   ]
  },
  {
   "cell_type": "markdown",
   "metadata": {
    "colab_type": "text",
    "id": "fC_N0897LrKB"
   },
   "source": [
    "### Total Sales per day"
   ]
  },
  {
   "cell_type": "code",
   "execution_count": 19,
   "metadata": {
    "ExecuteTime": {
     "end_time": "2020-05-14T17:13:50.717870Z",
     "start_time": "2020-05-14T17:13:50.373626Z"
    },
    "colab": {
     "base_uri": "https://localhost:8080/",
     "height": 512
    },
    "colab_type": "code",
    "id": "ZqLts2yyLrKB",
    "outputId": "c7a681bd-87c1-4ac1-b835-1897e79b7bea"
   },
   "outputs": [
    {
     "data": {
      "image/png": "[encoded data removed]",
      "text/plain": [
       "<Figure size 1080x504 with 1 Axes>"
      ]
     },
     "metadata": {
      "tags": []
     },
     "output_type": "display_data"
    }
   ],
   "source": [
    "df = base_data.groupby(by = 'InvoiceDate', as_index = False).agg('sum')\n",
    "figure = plt.figure(figsize = [15, 7])\n",
    "sns.lineplot(x = 'InvoiceDate', y = 'Quantity', data = df, color = '#D96552')\n",
    "\n",
    "plt.xlabel('Invoice Date', size = 14)\n",
    "plt.ylabel('Quantity Ordered per Day', size = 14)\n",
    "plt.xticks(rotation=90)\n",
    "plt.legend(labels = ['Quantity Ordered per Day'])\n",
    "plt.title('Quantity Ordered vs Invoice Date', size = 16)\n",
    "plt.grid(b = True, axis = 'y')\n",
    "plt.show()"
   ]
  },
  {
   "cell_type": "markdown",
   "metadata": {},
   "source": [
    "**Observation:**\n",
    "\n",
    "We can see high quantity ordered around the month of,\n",
    "\n",
    "- September/October-2018 (~130000),\n",
    "\n",
    "- January-2019 (~160000)and \n",
    "\n",
    "- January-2020 (~175000)."
   ]
  },
  {
   "cell_type": "markdown",
   "metadata": {
    "colab_type": "text",
    "id": "y2tXJkqHiIGT"
   },
   "source": [
    "## KMeans"
   ]
  },
  {
   "cell_type": "markdown",
   "metadata": {},
   "source": [
    "- We will be **segmenting** **customers** **based** **on** their **behaviour** i.e the **quantity ordered** and **total amount** on that product.\n",
    "\n",
    "- **Firstly**, we will **run** **K-means** at **default setting**. Then we will **tune** it over **multiple** **K values**, **finding optimal K**.\n",
    "\n",
    "- But **before** that we will **normalized two features** that are important for clustering i.e. **Quantity and Total_price**."
   ]
  },
  {
   "cell_type": "markdown",
   "metadata": {
    "colab_type": "text",
    "id": "QE7h0L5kfWRu"
   },
   "source": [
    "### Normalizing numerical features & Creating final data matrix"
   ]
  },
  {
   "cell_type": "code",
   "execution_count": 0,
   "metadata": {
    "colab": {},
    "colab_type": "code",
    "id": "544l_SxadW_6"
   },
   "outputs": [],
   "source": [
    "data_matrix=base_data[['Quantity','Total_price']]\n",
    "data_matrix['Quantity'] = np.log1p(base_data['Quantity'])\n",
    "data_matrix['Total_price'] = np.log1p(base_data['Total_price'])"
   ]
  },
  {
   "cell_type": "markdown",
   "metadata": {
    "colab_type": "text",
    "id": "nxTspdxNc1-l"
   },
   "source": [
    "### Hyper parameter tuning"
   ]
  },
  {
   "cell_type": "code",
   "execution_count": 21,
   "metadata": {
    "colab": {
     "base_uri": "https://localhost:8080/",
     "height": 34
    },
    "colab_type": "code",
    "id": "iN8rdZa0exCy",
    "outputId": "f3e6333c-1d93-4ca3-8d1d-12a74d8b6849"
   },
   "outputs": [
    {
     "name": "stderr",
     "output_type": "stream",
     "text": [
      "100%|██████████| 4/4 [00:19<00:00,  4.85s/it]\n"
     ]
    }
   ],
   "source": [
    "from sklearn.cluster import KMeans\n",
    "from tqdm import tqdm\n",
    "\n",
    "clusters=[2,4,6,8]\n",
    "inertia={}\n",
    "for k in tqdm(clusters):\n",
    "    km=KMeans(n_clusters=k,init='k-means++',n_init=5)\n",
    "    km.fit(data_matrix)\n",
    "    inertia[k]=km.inertia_  \n",
    "with open('/content/drive/My Drive/A6/inertia','wb')as f:\n",
    "    pickle.dump([clusters,inertia],f)"
   ]
  },
  {
   "cell_type": "code",
   "execution_count": 22,
   "metadata": {
    "colab": {
     "base_uri": "https://localhost:8080/",
     "height": 360
    },
    "colab_type": "code",
    "id": "N0jbj4TvhSvQ",
    "outputId": "123707d1-4a07-48f7-c1da-c81c597aa612"
   },
   "outputs": [
    {
     "data": {
      "text/plain": [
       "Text(0, 0.5, 'inertia')"
      ]
     },
     "execution_count": 22,
     "metadata": {
      "tags": []
     },
     "output_type": "execute_result"
    },
    {
     "data": {
      "image/png": "[encoded data removed]",
      "text/plain": [
       "<Figure size 720x360 with 1 Axes>"
      ]
     },
     "metadata": {
      "tags": []
     },
     "output_type": "display_data"
    }
   ],
   "source": [
    "plt.figure(figsize=(10,5))\n",
    "plt.plot(list(inertia.keys()),list(inertia.values()))\n",
    "plt.xlabel('no: of clusters')\n",
    "plt.ylabel('inertia')"
   ]
  },
  {
   "cell_type": "markdown",
   "metadata": {
    "colab_type": "text",
    "id": "XRhpZTjF5JKb"
   },
   "source": [
    "**Observation:**\n",
    "\n",
    "- As we can see that the **cluster sum of squared distances** **values** are **pretty high**.\n",
    "\n",
    "- We can see that **after** **K = 4**, there is **significant** **drop** in **inertia**.\n",
    "\n",
    "- So **K = 4 is optimal** for our **solution**."
   ]
  },
  {
   "cell_type": "markdown",
   "metadata": {
    "colab_type": "text",
    "id": "8VuK5S-m52P0"
   },
   "source": [
    "### Kmeans clustering"
   ]
  },
  {
   "cell_type": "code",
   "execution_count": 0,
   "metadata": {
    "colab": {},
    "colab_type": "code",
    "id": "_x1dGGndhjk5"
   },
   "outputs": [],
   "source": [
    "km=KMeans(n_clusters=4,init='k-means++',n_init=5)\n",
    "km.fit(data_matrix)\n",
    "km_labels=km.labels_\n",
    "km_centers = km.cluster_centers_"
   ]
  },
  {
   "cell_type": "code",
   "execution_count": 24,
   "metadata": {
    "colab": {
     "base_uri": "https://localhost:8080/",
     "height": 34
    },
    "colab_type": "code",
    "id": "DOdcE-cshpbq",
    "outputId": "5b34414b-bb41-4d9b-81eb-f9cd2c817f5d"
   },
   "outputs": [
    {
     "data": {
      "text/plain": [
       "array([1, 1, 1, ..., 0, 0, 0], dtype=int32)"
      ]
     },
     "execution_count": 24,
     "metadata": {
      "tags": []
     },
     "output_type": "execute_result"
    }
   ],
   "source": [
    "km_labels"
   ]
  },
  {
   "cell_type": "code",
   "execution_count": 25,
   "metadata": {
    "colab": {
     "base_uri": "https://localhost:8080/",
     "height": 34
    },
    "colab_type": "code",
    "id": "aFwFuSqMhskv",
    "outputId": "44d86de2-9ea0-463f-8e98-85fd97effcf5"
   },
   "outputs": [
    {
     "data": {
      "text/plain": [
       "{0, 1, 2, 3}"
      ]
     },
     "execution_count": 25,
     "metadata": {
      "tags": []
     },
     "output_type": "execute_result"
    }
   ],
   "source": [
    "km_labels=km_labels.tolist()\n",
    "unq_val=set(km_labels)\n",
    "unq_val"
   ]
  },
  {
   "cell_type": "markdown",
   "metadata": {
    "colab_type": "text",
    "id": "1zcxukeW-5tW"
   },
   "source": [
    "#### Visualizing the clusters"
   ]
  },
  {
   "cell_type": "code",
   "execution_count": 26,
   "metadata": {
    "colab": {
     "base_uri": "https://localhost:8080/",
     "height": 86
    },
    "colab_type": "code",
    "id": "xBt2Glhi87MJ",
    "outputId": "f32f4afc-0945-4b2d-f078-bd8f4292872b"
   },
   "outputs": [
    {
     "data": {
      "text/plain": [
       "array([[1.51205667, 2.73497756],\n",
       "       [4.04405697, 4.62955351],\n",
       "       [0.96134332, 1.32460115],\n",
       "       [2.71318794, 2.8411586 ]])"
      ]
     },
     "execution_count": 26,
     "metadata": {
      "tags": []
     },
     "output_type": "execute_result"
    }
   ],
   "source": [
    "km_centers"
   ]
  },
  {
   "cell_type": "code",
   "execution_count": 27,
   "metadata": {
    "colab": {
     "base_uri": "https://localhost:8080/",
     "height": 34
    },
    "colab_type": "code",
    "id": "IDIeEZ2H9IPM",
    "outputId": "08e6c275-1d93-4211-e847-51ead836298d"
   },
   "outputs": [
    {
     "data": {
      "text/plain": [
       "array([1.51205667, 4.04405697, 0.96134332, 2.71318794])"
      ]
     },
     "execution_count": 27,
     "metadata": {
      "tags": []
     },
     "output_type": "execute_result"
    }
   ],
   "source": [
    "km_centers[:,0]"
   ]
  },
  {
   "cell_type": "code",
   "execution_count": 28,
   "metadata": {
    "colab": {
     "base_uri": "https://localhost:8080/",
     "height": 470
    },
    "colab_type": "code",
    "id": "KdCrLtKf_A7a",
    "outputId": "27218eaa-8a1c-4f44-976d-299e94b79ba0"
   },
   "outputs": [
    {
     "data": {
      "image/png": "[encoded data removed]",
      "text/plain": [
       "<Figure size 1080x504 with 1 Axes>"
      ]
     },
     "metadata": {
      "tags": []
     },
     "output_type": "display_data"
    }
   ],
   "source": [
    "data_matrix['cluster']=km_labels\n",
    "fig, ax1 = plt.subplots(1, 1, figsize = [15, 7])\n",
    "ax1.scatter(x = data_matrix['Quantity'], y = data_matrix['Total_price'], marker='.', c = data_matrix['cluster'])\n",
    "ax1.scatter(x = km_centers[:, 0], y = km_centers[:, 1], marker = 'o', c = \"blue\",s = 200)\n",
    "for i, c in enumerate(km_centers):\n",
    "   ax1.scatter(x = c[0], y = c[1], marker = '$%d$' % i,s = 50)\n",
    "plt.xlabel(xlabel = 'Quantity', size = 14)\n",
    "plt.ylabel(ylabel = 'Total_price', size = 14)\n",
    "plt.title(label = 'Visualization of Clustered Data', size = 16)\n",
    "plt.show()"
   ]
  },
  {
   "cell_type": "markdown",
   "metadata": {},
   "source": [
    "**Observation:**\n",
    "\n",
    "- We can see **clusters** and their **respective centroids** are very **dense**.\n",
    "\n",
    "- **To** **understand** **better** we will **look** at the **count** of each **cluster label**."
   ]
  },
  {
   "cell_type": "code",
   "execution_count": 40,
   "metadata": {
    "colab": {
     "base_uri": "https://localhost:8080/",
     "height": 34
    },
    "colab_type": "code",
    "id": "kfBOpHZ7R_Xe",
    "outputId": "21d3811c-1b69-4fe9-cfeb-6884923deab3"
   },
   "outputs": [
    {
     "data": {
      "text/plain": [
       "[1, 1, 1, 1, 3]"
      ]
     },
     "execution_count": 40,
     "metadata": {
      "tags": []
     },
     "output_type": "execute_result"
    }
   ],
   "source": [
    "labels=[i for i in km_labels]\n",
    "labels[:5]"
   ]
  },
  {
   "cell_type": "code",
   "execution_count": 41,
   "metadata": {
    "colab": {
     "base_uri": "https://localhost:8080/",
     "height": 141
    },
    "colab_type": "code",
    "id": "_a3OkhMlRNMd",
    "outputId": "06cd7d28-153a-4ae5-d9d0-2c4750613893"
   },
   "outputs": [
    {
     "data": {
      "text/html": [
       "<div>\n",
       "<style scoped>\n",
       "    .dataframe tbody tr th:only-of-type {\n",
       "        vertical-align: middle;\n",
       "    }\n",
       "\n",
       "    .dataframe tbody tr th {\n",
       "        vertical-align: top;\n",
       "    }\n",
       "\n",
       "    .dataframe thead th {\n",
       "        text-align: right;\n",
       "    }\n",
       "</style>\n",
       "<table border=\"1\" class=\"dataframe\">\n",
       "  <thead>\n",
       "    <tr style=\"text-align: right;\">\n",
       "      <th></th>\n",
       "      <th>Quantity</th>\n",
       "      <th>Total_price</th>\n",
       "      <th>cluster</th>\n",
       "      <th>labels</th>\n",
       "    </tr>\n",
       "  </thead>\n",
       "  <tbody>\n",
       "    <tr>\n",
       "      <th>0</th>\n",
       "      <td>2.564949</td>\n",
       "      <td>4.435567</td>\n",
       "      <td>1</td>\n",
       "      <td>1</td>\n",
       "    </tr>\n",
       "    <tr>\n",
       "      <th>1</th>\n",
       "      <td>2.564949</td>\n",
       "      <td>4.406719</td>\n",
       "      <td>1</td>\n",
       "      <td>1</td>\n",
       "    </tr>\n",
       "    <tr>\n",
       "      <th>2</th>\n",
       "      <td>2.564949</td>\n",
       "      <td>4.406719</td>\n",
       "      <td>1</td>\n",
       "      <td>1</td>\n",
       "    </tr>\n",
       "  </tbody>\n",
       "</table>\n",
       "</div>"
      ],
      "text/plain": [
       "   Quantity  Total_price  cluster  labels\n",
       "0  2.564949     4.435567        1       1\n",
       "1  2.564949     4.406719        1       1\n",
       "2  2.564949     4.406719        1       1"
      ]
     },
     "execution_count": 41,
     "metadata": {
      "tags": []
     },
     "output_type": "execute_result"
    }
   ],
   "source": [
    "data_matrix['labels']=labels\n",
    "data_matrix.head(3)"
   ]
  },
  {
   "cell_type": "code",
   "execution_count": 43,
   "metadata": {
    "colab": {
     "base_uri": "https://localhost:8080/",
     "height": 470
    },
    "colab_type": "code",
    "id": "GYTNiJA15uU8",
    "outputId": "333b3f80-cac9-4449-f0e2-c17a5917f487"
   },
   "outputs": [
    {
     "data": {
      "image/png": "[encoded data removed]",
      "text/plain": [
       "<Figure size 1080x504 with 1 Axes>"
      ]
     },
     "metadata": {
      "tags": []
     },
     "output_type": "display_data"
    }
   ],
   "source": [
    "figure = plt.figure(figsize = [15, 7])\n",
    "flatui = [\"#440154\", \"#3B528B\", \"#21918C\", \"#5EC962\", \"#FDEB5E\"]\n",
    "ax = sns.countplot(x = 'labels', data = data_matrix, palette = sns.color_palette(flatui))\n",
    "\n",
    "total = data_matrix.shape[0]\n",
    "for p in ax.patches:\n",
    "  percentage = '{:.2f}%'.format(100*p.get_height()/ total)\n",
    "  x = p.get_x() + p.get_width() / 3\n",
    "  y = p.get_y() + p.get_height()\n",
    "  ax.annotate(percentage, (x, y))\n",
    "\n",
    "plt.xlabel('Clusters', size = 14)\n",
    "plt.ylabel('Frequency', size = 14)\n",
    "plt.title(label = 'Frequency distribution of Customers', size = 16)\n",
    "plt.show()"
   ]
  },
  {
   "cell_type": "markdown",
   "metadata": {},
   "source": [
    "**Observation:**\n",
    "- observations from frequency distribution of customers and visualization of clusters.\n",
    "\n",
    "- We can see that **clusters 1 and 3 are more profitable** **because** they seem to **order more quantity** as well as have **high purchase** values.Here eventhough frequency of purchase is less for cluster1,they order more quantity.These may be wholesale customers.\n",
    "\n",
    "- For the **cluster 2**, both the **quantity and purchase** value is **less**.\n",
    "\n",
    "- For the **cluster 0**, though the **quantity** ordered is **less**, the **purchase** value is **similar** to cluster 3.\n",
    "\n",
    "- On the other hand, the **cluster 3** has **higher quantity** ordered **than cluster 0** but not much differrence in **purchase**."
   ]
  },
  {
   "cell_type": "markdown",
   "metadata": {},
   "source": [
    "## Conclusion"
   ]
  },
  {
   "cell_type": "markdown",
   "metadata": {},
   "source": [
    "- We **studied in depth about the data**, its **characteristics** and its **distribution**.\n",
    "\n",
    "- We **explored various questions** related to the **customer behaviour** and their **residency** and **buying habits**.\n",
    "\n",
    "- We **adopted K-Meanss** to **solve** this **business problem**:\n",
    "\n",
    "-"
   ]
  }
 ],
 "metadata": {
  "colab": {
   "collapsed_sections": [],
   "name": "customer_segmentation.ipynb",
   "provenance": [],
   "toc_visible": true
  },
  "hide_input": false,
  "kernelspec": {
   "display_name": "Python 3",
   "language": "python",
   "name": "python3"
  },
  "language_info": {
   "codemirror_mode": {
    "name": "ipython",
    "version": 3
   },
   "file_extension": ".py",
   "mimetype": "text/x-python",
   "name": "python",
   "nbconvert_exporter": "python",
   "pygments_lexer": "ipython3",
   "version": "3.7.3"
  },
  "toc": {
   "base_numbering": 1,
   "nav_menu": {},
   "number_sections": true,
   "sideBar": true,
   "skip_h1_title": false,
   "title_cell": "Table of Contents",
   "title_sidebar": "Contents",
   "toc_cell": false,
   "toc_position": {},
   "toc_section_display": true,
   "toc_window_display": true
  }
 },
 "nbformat": 4,
 "nbformat_minor": 1
}
